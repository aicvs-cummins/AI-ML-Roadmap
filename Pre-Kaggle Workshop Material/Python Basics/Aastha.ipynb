{
  "nbformat": 4,
  "nbformat_minor": 0,
  "metadata": {
    "colab": {
      "provenance": []
    },
    "kernelspec": {
      "name": "python3",
      "display_name": "Python 3"
    },
    "language_info": {
      "name": "python"
    }
  },
  "cells": [
    {
      "cell_type": "markdown",
      "source": [
        "What is Python?\n",
        "\"Python is a beginner-friendly and versatile programming language. It’s widely used for web development, AI, data science, and automation. Let’s start with a simple program.\""
      ],
      "metadata": {
        "id": "If2HlTCTAK_k"
      }
    },
    {
      "cell_type": "code",
      "source": [
        "from google.colab import drive\n",
        "drive.mount('/content/drive')"
      ],
      "metadata": {
        "id": "SG3q9Tde3ZSJ"
      },
      "execution_count": null,
      "outputs": []
    },
    {
      "cell_type": "code",
      "execution_count": null,
      "metadata": {
        "colab": {
          "base_uri": "https://localhost:8080/"
        },
        "id": "r0uEq6d69aS4",
        "outputId": "b8a3471f-2612-4dee-f567-f54ec9b42f3f"
      },
      "outputs": [
        {
          "output_type": "stream",
          "name": "stdout",
          "text": [
            "Hello world\n"
          ]
        }
      ],
      "source": [
        "# Python is a versatile and beginner-friendly programming language.\n",
        "\n",
        "print(\"Hello world\")\n"
      ]
    },
    {
      "cell_type": "code",
      "source": [
        "# Example of three Python libraries\n",
        "import math  # For mathematical operations\n",
        "import random  # For random numbers\n",
        "import datetime  # For date and time\n",
        "\n",
        "# Using libraries\n",
        "print(\"Square root of 16:\", math.sqrt(16))\n",
        "print(\"Random number between 1 and 10:\", random.randint(1, 10))\n",
        "print(\"Current date and time:\", datetime.datetime.now())\n"
      ],
      "metadata": {
        "colab": {
          "base_uri": "https://localhost:8080/"
        },
        "id": "4jSD68VN-Vej",
        "outputId": "1ed8401e-351f-403f-aa06-edab987eef7d"
      },
      "execution_count": null,
      "outputs": [
        {
          "output_type": "stream",
          "name": "stdout",
          "text": [
            "Square root of 16: 4.0\n",
            "Random number between 1 and 10: 10\n",
            "Current date and time: 2024-12-04 16:34:00.490239\n"
          ]
        }
      ]
    },
    {
      "cell_type": "markdown",
      "source": [
        "Printing and Getting Input\n",
        "\"Python makes it very easy to display messages and get input from users. Here's an example.\"\n",
        "\n",
        "python\n",
        "Copy code\n",
        "\n"
      ],
      "metadata": {
        "id": "uPwvjAhoAT72"
      }
    },
    {
      "cell_type": "code",
      "source": [
        "# Printing a message\n",
        "print(\"Welcome to Python basics!\")\n",
        "\n",
        "# Getting user input\n",
        "name = input(\"Enter your name: \")\n",
        "print(\"Hello, \" + name + \"! Nice to meet you.\")\n"
      ],
      "metadata": {
        "colab": {
          "base_uri": "https://localhost:8080/"
        },
        "id": "Ep0NN-oc_tx7",
        "outputId": "fd173554-4b16-4a21-fdc0-5b4cf0abb630"
      },
      "execution_count": null,
      "outputs": [
        {
          "output_type": "stream",
          "name": "stdout",
          "text": [
            "Welcome to Python basics!\n",
            "Enter your name: AICVS\n",
            "Hello, AICVS! Nice to meet you.\n"
          ]
        }
      ]
    },
    {
      "cell_type": "markdown",
      "source": [
        "Variables\n",
        "\"Variables store data, and they can hold different types of data like numbers, strings, etc.\""
      ],
      "metadata": {
        "id": "K0xIgma4AbHt"
      }
    },
    {
      "cell_type": "code",
      "source": [
        "# Variables store data\n",
        "age = 20  # Integer\n",
        "height = 5.5  # Float\n",
        "name = \"Alice\"  #String\n",
        "\n",
        "print(\"Name:\", name)\n",
        "print(\"Age:\", age)\n",
        "print(\"Height:\", height)\n"
      ],
      "metadata": {
        "colab": {
          "base_uri": "https://localhost:8080/"
        },
        "id": "9YWOnWdh_06n",
        "outputId": "aa66f011-cae8-4ffa-82c0-a884033bc06d"
      },
      "execution_count": null,
      "outputs": [
        {
          "output_type": "stream",
          "name": "stdout",
          "text": [
            "Name: Alice\n",
            "Age: 20\n",
            "Height: 5.5\n"
          ]
        }
      ]
    },
    {
      "cell_type": "markdown",
      "source": [
        "Float to Integer:\n",
        "\"Here we convert a float value into an integer using the int() function. Notice how it truncates the decimal part.\"\n"
      ],
      "metadata": {
        "id": "CHePGGFkBXF9"
      }
    },
    {
      "cell_type": "code",
      "source": [
        "pi = 3.14\n",
        "integer_pi = int(pi)\n",
        "print(\"Original value:\", pi, \"-> Converted value:\", integer_pi)\n"
      ],
      "metadata": {
        "colab": {
          "base_uri": "https://localhost:8080/"
        },
        "id": "WaKhZ9pYBWcK",
        "outputId": "664eb586-9da9-41cf-d8bb-74cd22e4b922"
      },
      "execution_count": null,
      "outputs": [
        {
          "output_type": "stream",
          "name": "stdout",
          "text": [
            "Original value: 3.14 -> Converted value: 3\n"
          ]
        }
      ]
    },
    {
      "cell_type": "markdown",
      "source": [
        "Loops\n",
        "\"Loops let you repeat actions. Let me show you a for loop and a while loop.\""
      ],
      "metadata": {
        "id": "utalzicxAi5G"
      }
    },
    {
      "cell_type": "code",
      "source": [
        "# Using a for loop\n",
        "for i in range(5):  # Loops from 0 to 4\n",
        "    print(\"Count:\", i)\n",
        "\n",
        "# Using a while loop\n",
        "n = 3\n",
        "while n > 0:\n",
        "    print(\"Countdown:\", n)\n",
        "    n -= 1  # Decrement\n"
      ],
      "metadata": {
        "colab": {
          "base_uri": "https://localhost:8080/"
        },
        "id": "Au_V8TQH_4LX",
        "outputId": "0a662c94-7ff6-471a-b377-3abd8973c65c"
      },
      "execution_count": null,
      "outputs": [
        {
          "output_type": "stream",
          "name": "stdout",
          "text": [
            "Count: 0\n",
            "Count: 1\n",
            "Count: 2\n",
            "Count: 3\n",
            "Count: 4\n",
            "Countdown: 3\n",
            "Countdown: 2\n",
            "Countdown: 1\n"
          ]
        }
      ]
    },
    {
      "cell_type": "markdown",
      "source": [
        "If-Else Statements\n",
        "\"Finally, we’ll look at decision-making using if-else. This program checks if a number is even or odd.\""
      ],
      "metadata": {
        "id": "iwAtIeerAoHg"
      }
    },
    {
      "cell_type": "code",
      "source": [
        "# Checking even or odd\n",
        "number = int(input(\"Enter a number: \"))\n",
        "if number % 2 == 0:\n",
        "    print(number, \"is even.\")\n",
        "else:\n",
        "    print(number, \"is odd.\")\n"
      ],
      "metadata": {
        "colab": {
          "base_uri": "https://localhost:8080/"
        },
        "id": "vScOyCm2_7dq",
        "outputId": "d62948aa-7531-4c5c-f065-864fcc9d1f1f"
      },
      "execution_count": null,
      "outputs": [
        {
          "output_type": "stream",
          "name": "stdout",
          "text": [
            "Enter a number: 12\n",
            "12 is even.\n"
          ]
        }
      ]
    },
    {
      "cell_type": "markdown",
      "source": [
        "Introduce Strings:\n",
        "\"Strings are a sequence of characters used to store text. You can create strings using single quotes, double quotes, or triple quotes for multi-line text."
      ],
      "metadata": {
        "id": "wbbNvhQHB033"
      }
    },
    {
      "cell_type": "code",
      "source": [
        "single_quote = 'Hello'\n",
        "double_quote = \"World\"\n",
        "triple_quote = '''This is\n",
        "a multi-line string.'''\n",
        "print(\"Single Quote String:\", single_quote)\n",
        "print(\"Double Quote String:\", double_quote)\n",
        "print(\"Triple Quote String:\", triple_quote)\n"
      ],
      "metadata": {
        "colab": {
          "base_uri": "https://localhost:8080/"
        },
        "id": "UI5uhNqxB2nF",
        "outputId": "d997c470-b8f8-45d0-c63c-0a9900fc26c0"
      },
      "execution_count": null,
      "outputs": [
        {
          "output_type": "stream",
          "name": "stdout",
          "text": [
            "Single Quote String: Hello\n",
            "Double Quote String: World\n",
            "Triple Quote String: This is \n",
            "a multi-line string.\n"
          ]
        }
      ]
    },
    {
      "cell_type": "markdown",
      "source": [
        "\"You can combine strings using the + operator, which is called concatenation. Here's an example:\""
      ],
      "metadata": {
        "id": "jKZOI9mwB7SJ"
      }
    },
    {
      "cell_type": "code",
      "source": [
        "greeting = \"Hello\"\n",
        "name = \"All\"\n",
        "full_greeting = greeting + \", \" + name + \"!\"\n",
        "print(\"Concatenated String:\", full_greeting)\n"
      ],
      "metadata": {
        "colab": {
          "base_uri": "https://localhost:8080/"
        },
        "id": "FuYp72SwB_hG",
        "outputId": "ab3a4c27-77c9-4b05-c002-ec814e9599a8"
      },
      "execution_count": null,
      "outputs": [
        {
          "output_type": "stream",
          "name": "stdout",
          "text": [
            "Concatenated String: Hello, All!\n"
          ]
        }
      ]
    },
    {
      "cell_type": "markdown",
      "source": [
        "String Indexing and Slicing:\n",
        "\"You can access specific characters in a string using an index. Remember, Python starts counting from 0. You can also extract parts of the string using slicing.\""
      ],
      "metadata": {
        "id": "CdMmNbarCEdm"
      }
    },
    {
      "cell_type": "code",
      "source": [
        "text = \"Python\"\n",
        "print(\"First character:\", text[0])  # Access first character\n",
        "print(\"Last character:\", text[-1])  # Access last character\n",
        "print(\"Substring (2nd to 4th):\", text[1:4])  # Slicing\n"
      ],
      "metadata": {
        "colab": {
          "base_uri": "https://localhost:8080/"
        },
        "id": "xmiADZpxCKXS",
        "outputId": "198716dc-ea52-4a53-c2bf-585240aa91f9"
      },
      "execution_count": null,
      "outputs": [
        {
          "output_type": "stream",
          "name": "stdout",
          "text": [
            "First character: P\n",
            "Last character: n\n",
            "Substring (2nd to 4th): yth\n"
          ]
        }
      ]
    },
    {
      "cell_type": "markdown",
      "source": [
        "String Methods:\n",
        "\"Python provides several built-in methods to manipulate strings. Let's see some examples.\""
      ],
      "metadata": {
        "id": "dWGdJR05CNl4"
      }
    },
    {
      "cell_type": "code",
      "source": [
        "example = \"  Hello, All!  \"\n",
        "print(\"After stripping spaces:\", example.strip())  # Removes spaces\n",
        "print(\"Uppercase:\", example.upper())  # Converts to uppercase\n",
        "print(\"Lowercase:\", example.lower())  # Converts to lowercase\n",
        "print(\"String length:\", len(example))  # Finds string length\n"
      ],
      "metadata": {
        "colab": {
          "base_uri": "https://localhost:8080/"
        },
        "id": "TlhoFrjpCST8",
        "outputId": "b84f4b30-3461-434c-96dd-49dd1da8fa0d"
      },
      "execution_count": null,
      "outputs": [
        {
          "output_type": "stream",
          "name": "stdout",
          "text": [
            "After stripping spaces: hhello\n",
            "Uppercase:   HHELLO  \n",
            "Lowercase:   hhello  \n",
            "String length: 10\n"
          ]
        }
      ]
    },
    {
      "cell_type": "markdown",
      "source": [
        "EXERCISE !!"
      ],
      "metadata": {
        "id": "YeKtakZHCY9O"
      }
    },
    {
      "cell_type": "code",
      "source": [
        "Class_name = input('Enter the name of the class: ')\n",
        "No_of_student = int(input('Enter the total number of students: '))\n",
        "\n",
        "print('The name of the class is ' + Class_name)\n",
        "print('Total number of students in class ' + Class_name + ' is:', No_of_student)\n",
        "print('-' * 50)\n",
        "\n",
        "print('CLASS DETAILS ARE AS FOLLOWS:\\n')\n",
        "print(\"Class name: \", Class_name)\n",
        "print('Roll numbers are:')\n",
        "\n",
        "i = 1\n",
        "while i <= No_of_student:\n",
        "    print('\\t', i, end=' ')  # Ensure proper indentation\n",
        "    i += 1\n",
        "\n",
        "print('\\n' + '-' * 50)\n"
      ],
      "metadata": {
        "id": "mKLKb3RtCbZ5",
        "outputId": "c20b80a2-7cea-4ee3-9ebd-71dbd9006efb",
        "colab": {
          "base_uri": "https://localhost:8080/"
        }
      },
      "execution_count": null,
      "outputs": [
        {
          "output_type": "stream",
          "name": "stdout",
          "text": [
            "Enter the name of the class: A2\n",
            "Enter the total number of students: 15\n",
            "The name of the class is A2\n",
            "Total number of students in class A2 is: 15\n",
            "--------------------------------------------------\n",
            "CLASS DETAILS ARE AS FOLLOWS:\n",
            "\n",
            "Class name:  A2\n",
            "Roll numbers are:\n",
            "\t 1 \t 2 \t 3 \t 4 \t 5 \t 6 \t 7 \t 8 \t 9 \t 10 \t 11 \t 12 \t 13 \t 14 \t 15 \n",
            "--------------------------------------------------\n"
          ]
        }
      ]
    }
  ]
}